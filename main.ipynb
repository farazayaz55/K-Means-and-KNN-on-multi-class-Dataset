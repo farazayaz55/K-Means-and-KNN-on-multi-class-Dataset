{
  "nbformat": 4,
  "nbformat_minor": 0,
  "metadata": {
    "colab": {
      "name": "AI assignment3.ipynb",
      "provenance": [],
      "collapsed_sections": []
    },
    "kernelspec": {
      "display_name": "Python 3",
      "name": "python3"
    },
    "language_info": {
      "name": "python"
    }
  },
  "cells": [
    {
      "cell_type": "code",
      "metadata": {
        "id": "SfXH-wjzX-s4"
      },
      "source": [
        "import numpy as np\n",
        "from numpy import random\n",
        "import pandas as pd\n",
        "import operator\n",
        "import math\n",
        "import matplotlib.pyplot as plt\n",
        "%matplotlib inline"
      ],
      "execution_count": 269,
      "outputs": []
    },
    {
      "cell_type": "code",
      "metadata": {
        "colab": {
          "base_uri": "https://localhost:8080/"
        },
        "id": "TIloa29vZ3Cs",
        "outputId": "c3bad75a-9d34-4301-92c0-3271f614274b"
      },
      "source": [
        "from google.colab import drive\n",
        "drive.mount('/content/drive')"
      ],
      "execution_count": 270,
      "outputs": [
        {
          "output_type": "stream",
          "text": [
            "Drive already mounted at /content/drive; to attempt to forcibly remount, call drive.mount(\"/content/drive\", force_remount=True).\n"
          ],
          "name": "stdout"
        }
      ]
    },
    {
      "cell_type": "code",
      "metadata": {
        "colab": {
          "base_uri": "https://localhost:8080/"
        },
        "id": "QEcgz2AXZjEI",
        "outputId": "e069d22e-c4dd-4c32-c450-b11772251d7b"
      },
      "source": [
        "data = pd.read_csv(\"/content/drive/My Drive/AI/dataset_Facebook.csv\", sep=';')  #\n",
        "data_frame = pd.DataFrame(data)       #reading data and creating a dataframe\n",
        "data_frame = data_frame.sample(frac=1)  #shuffling the dataframe\n",
        "print(data_frame)\n",
        "\n",
        "#after shuffling dividing the dataset into training dataset and test dataset\n",
        "Training_data = pd.DataFrame(data_frame.iloc[:250,:])     #giving 250 rows to training set \n",
        "Training_data.drop(data_frame.columns[[1,2,6,16,17]], axis = 1, inplace = True)     #dropping class and float type columns\n",
        "Training_data.reset_index(drop=True, inplace=False)     \n",
        "Training_data.columns = ['0','1','2','3','4','5','6','7','8','9','10','11','12','13'] #renaming the columns\n",
        "print(Training_data)\n",
        "\n",
        "Test_data = pd.DataFrame(data_frame.iloc[250:,:])   #giving 250 rows to test set\n",
        "Test_data.drop(data_frame.columns[[1,2,6,16,17]], axis = 1, inplace = True)   #dropping class and float type columns\n",
        "Test_data.reset_index(drop=True, inplace=False)\n",
        "Test_data.columns = ['0','1','2','3','4','5','6','7','8','9','10','11','12','13'] #renaming the columns\n",
        "print(Test_data)"
      ],
      "execution_count": 296,
      "outputs": [
        {
          "output_type": "stream",
          "text": [
            "     Page total likes    Type  Category  ...   like  share  Total Interactions\n",
            "155            135700   Photo         2  ...   54.0   16.0                  70\n",
            "343            117764   Photo         3  ...  101.0   29.0                 136\n",
            "207            132201   Photo         2  ...  137.0   20.0                 162\n",
            "479             86909   Photo         3  ...   84.0   36.0                 127\n",
            "293            125612   Photo         2  ...   71.0   23.0                  95\n",
            "..                ...     ...       ...  ...    ...    ...                 ...\n",
            "371            113028  Status         2  ...  447.0  123.0                 587\n",
            "288            126141   Photo         1  ...  469.0   33.0                 605\n",
            "430            100732    Link         1  ...    6.0    0.0                   6\n",
            "278            126345   Photo         1  ...  202.0    5.0                 218\n",
            "67             138185   Photo         1  ...  697.0   70.0                 787\n",
            "\n",
            "[500 rows x 19 columns]\n",
            "          0   1  2   3      4      5  ...     8      9     10    11   12    13\n",
            "155  135700   9  3   7   1685   2999  ...   424   1794    953   237    0    70\n",
            "343  117764   5  1  13   4458   7753  ...   676   5493   3106   340    6   136\n",
            "207  132201   8  7  10   3734   6218  ...   794   4831   2868   389    5   162\n",
            "479   86909   1  5   4   6056  10325  ...  1427   6823   3788   487    7   127\n",
            "293  125612   6  3   3   3322   5969  ...   852   4111   2236   375    1    95\n",
            "..      ...  .. ..  ..    ...    ...  ...   ...    ...    ...   ...  ...   ...\n",
            "319  123047   6  4   5  11304  20647  ...  1874  14792   7800   732   18   235\n",
            "55   138329  11  6   2  16416  31950  ...   539  21436   9568   363    2    81\n",
            "165  135428   9  5   3   2790   4879  ...   513   3501   1999   351    0   132\n",
            "260  129600   7  2   7   4274   7948  ...  1020   5936   3164   460    0   143\n",
            "168  135428   9  3  10  41984  68290  ...  4074  34802  20928  2126  144  1974\n",
            "\n",
            "[250 rows x 14 columns]\n",
            "          0   1  2   3      4      5  ...      8      9     10    11   12   13\n",
            "368  115368   4  1   2  11336  15350  ...    724  13876  10160   484    4   54\n",
            "205  132201   8  1  12   3254   5644  ...    513   5069   2846   283    0   42\n",
            "134  136393  10  6   6    861   1565  ...    239   1351    717   180    2   34\n",
            "484   86491   1  2   7   5040   8367  ...   1348   5485   3068   437    2  108\n",
            "448   96749   3  7   5  14320  21958  ...   2170   9579   4664   413    2   67\n",
            "..      ...  .. ..  ..    ...    ...  ...    ...    ...    ...   ...  ...  ...\n",
            "371  113028   4  6   3  17912  34774  ...   6591  21009  11408  2256   17  587\n",
            "288  126141   6  4  12  20896  29062  ...   2048  19738  13656   998  103  605\n",
            "430  100732   3  7  14   2933   5144  ...     26   3972   2012    19    0    6\n",
            "278  126345   6  2   9   5854  11854  ...  19779   5901   2894   583   11  218\n",
            "67   138185  11  7   3  53456  93790  ...   1469  32646  14912   884   20  787\n",
            "\n",
            "[250 rows x 14 columns]\n"
          ],
          "name": "stdout"
        }
      ]
    },
    {
      "cell_type": "markdown",
      "metadata": {
        "id": "sGNIa0Llhqjz"
      },
      "source": [
        "**KNN Algo**"
      ]
    },
    {
      "cell_type": "code",
      "metadata": {
        "id": "AozTYiV1hwBc"
      },
      "source": [
        "# Defining a function which calculates euclidean distance between two data points\n",
        "def EuclideanDistance(testdata, training_data, lenofTest):\n",
        "  distance = 0\n",
        "  for x in range(lenofTest):\n",
        "    distance += np.square(testdata[x] - training_data[x])\n",
        "  return np.sqrt(distance)\n"
      ],
      "execution_count": 272,
      "outputs": []
    },
    {
      "cell_type": "code",
      "metadata": {
        "id": "SAXbdArt4dss"
      },
      "source": [
        "def knn(dataSet, testDataSet, k):\n",
        " \n",
        "  EU_distance = {}    #to store euclidean distance\n",
        "  neighbors = []      #to store nearest neighbors\n",
        "  most_freq_class = {}    #to store most freq classes\n",
        "  lengthOfTest = testDataSet.shape[1]   #length of test data set\n",
        "\n",
        "  #Calculating euclidean distance between each row of training data set and test data set\n",
        "  x = 0\n",
        "  while (x < len(dataSet)):  \n",
        "    eu_dist = EuclideanDistance(testDataSet.iloc[x], dataSet.iloc[x], lengthOfTest)\n",
        "    EU_distance[x] = eu_dist\n",
        "    x += 1\n",
        "\n",
        "  #Sorting them on the basis of distance\n",
        "  Sort_EU_dist = sorted(EU_distance.items(), key=operator.itemgetter(1))\n",
        "  \n",
        "  #gtting k neighbors on the top\n",
        "  x = 0\n",
        "  for x in range(k):\n",
        "    neighbors.append(Sort_EU_dist[x][0]) #getting row index of the most frequent class\n",
        "  \n",
        "  #Calculating the most freq class in the neighbors\n",
        "  i = 0\n",
        "  while i < len(neighbors):\n",
        "    row_index = data_frame.iloc[neighbors[i]]['Category']   #as the Category column repersents my class i get the class of the neighbors\n",
        "    if row_index in most_freq_class:\n",
        "        most_freq_class[row_index] += 1   #if class already exists then add 1 to freq\n",
        "    else:\n",
        "        most_freq_class[row_index] = 1    #if it does not exist than initialise it at one\n",
        "    i += 1\n",
        "\n",
        "  sorted_Class_freq = sorted(most_freq_class.items(), key=operator.itemgetter(1), reverse=True) #highest freq at the top\n",
        "  return(sorted_Class_freq[0][0], neighbors)  #return the predicted class and the neihbors array\n"
      ],
      "execution_count": 273,
      "outputs": []
    },
    {
      "cell_type": "code",
      "metadata": {
        "colab": {
          "base_uri": "https://localhost:8080/"
        },
        "id": "yHhjOxDRhwO0",
        "outputId": "863e4669-53a1-4847-de53-15115c6d3e3c"
      },
      "source": [
        "print('\\nWith 5 Nearest Neighbour')\n",
        "#***********with 5 nearesrt neighbours***************************\n",
        "k = 5\n",
        "pred_class,neighbours = knn(Training_data, Test_data, k)  #running KNN algo\n",
        "print('\\nPredicted Class of the datapoint = ', pred_class)    #getting predicted class\n",
        "print('\\nNearest Neighbour of the datapoints = ',neighbours)    #getting k nearest neighbors\n",
        "\n",
        "print('\\n\\nWith 7 Nearest Neighbours')\n",
        "#***********with 7 nearesrt neighbours***************************\n",
        "k = 7\n",
        "pred_class,neighbours = knn(Training_data, Test_data, k)  #running KNN algo\n",
        "print('\\nPredicted Class of the datapoint = ', pred_class)    #getting predicted class\n",
        "print('\\nNearest Neighbour of the datapoints = ',neighbours)    #getting k nearest neighbors\n",
        "\n",
        "\n",
        "print('\\n\\nWith 9 Nearest Neighbours') \n",
        "#***********with 9 nearesrt neighbours***************************\n",
        "k = 9\n",
        "pred_class,neighbours = knn(Training_data, Test_data, k)  #running KNN algo\n",
        "print('\\nPredicted Class of the datapoint = ', pred_class)    #getting predicted class\n",
        "print('\\nNearest Neighbour of the datapoints = ',neighbours)    #getting k nearest neighbors\n",
        "accurate = accuracy()\n",
        "print(\"\\n\\nAccuracy = \", accurate)"
      ],
      "execution_count": 297,
      "outputs": [
        {
          "output_type": "stream",
          "text": [
            "\n",
            "With 5 Nearest Neighbour\n",
            "\n",
            "Predicted Class of the datapoint =  1\n",
            "\n",
            "Nearest Neighbour of the datapoints =  [76, 55, 185, 137, 85]\n",
            "\n",
            "\n",
            "With 7 Nearest Neighbours\n",
            "\n",
            "Predicted Class of the datapoint =  1\n",
            "\n",
            "Nearest Neighbour of the datapoints =  [76, 55, 185, 137, 85, 20, 3]\n",
            "\n",
            "\n",
            "With 9 Nearest Neighbours\n",
            "\n",
            "Predicted Class of the datapoint =  1\n",
            "\n",
            "Nearest Neighbour of the datapoints =  [76, 55, 185, 137, 85, 20, 3, 97, 150]\n",
            "\n",
            "\n",
            "Accuracy =  0.5555555555555556\n"
          ],
          "name": "stdout"
        }
      ]
    },
    {
      "cell_type": "markdown",
      "metadata": {
        "id": "5Ij7GfZkJglM"
      },
      "source": [
        "Function to calculate Accuracy"
      ]
    },
    {
      "cell_type": "code",
      "metadata": {
        "id": "EJJOejc9vPay"
      },
      "source": [
        "def accuracy():\n",
        "  acc_count = 0\n",
        "  for i in range(len(neighbours)):\n",
        "    if pred_class == data_frame.iloc[neighbours[i]]['Category']:\n",
        "      acc_count += 1\n",
        "  return acc_count/len(neighbours)"
      ],
      "execution_count": 275,
      "outputs": []
    },
    {
      "cell_type": "markdown",
      "metadata": {
        "id": "njEMaYTlhin8"
      },
      "source": [
        "**K-means Algo**"
      ]
    },
    {
      "cell_type": "code",
      "metadata": {
        "id": "59IGXYJTaycA"
      },
      "source": [
        "# Assign every training example x^(i) to its closest centroid, given the current centroid positions\n",
        "def find_closest_centroids(X, centroids):\n",
        "    '''returns the array of assigned clusters to each example ''' \n",
        "    m = X.shape[0] # no of datappints\n",
        "    k = centroids.shape[0]  #division size\n",
        "    idx = np.zeros(m) # array to assign the centriod\n",
        "    cluster_num = np.zeros(m)\n",
        "    # Your Code Here\n",
        "    for j in range(m):\n",
        "      dataFrame_row = np.array([X.iloc[j]])\n",
        "      distance_from_1 = np.linalg.norm(dataFrame_row-centroids[0]) #will get the distances between all the point and each cluster1\n",
        "      distance_from_2 = np.linalg.norm(dataFrame_row-centroids[1])  #will get the distances between all the point and each cluster2\n",
        "      distance_from_3 = np.linalg.norm(dataFrame_row-centroids[2])   #will get the distances between all the point and each cluster3\n",
        "      #print(distance_from_1)\n",
        "      min_distance = min(distance_from_1,distance_from_2,distance_from_3)   #we get the minimum distance that point has with any of the clusters\n",
        "      # keeping a numbering array for clusters so later on it is easrier to extract which datapoint belongs to which cluster \n",
        "      if min_distance == distance_from_1:   \n",
        "        cluster_num[j] = 0 \n",
        "      elif min_distance == distance_from_2:\n",
        "        cluster_num[j] = 1 \n",
        "      elif min_distance == distance_from_3:\n",
        "        cluster_num[j] = 2   \n",
        "      idx[j] = min_distance   #storing the minimum distance and assign to the centroid\n",
        "\n",
        "    return idx, cluster_num\n",
        "\n"
      ],
      "execution_count": 276,
      "outputs": []
    },
    {
      "cell_type": "code",
      "metadata": {
        "id": "tdU-XJhWdMQS"
      },
      "source": [
        "# Update Centroids\n",
        "def compute_centroids(X, idx, k, cluster_num):\n",
        "    m, n = X.shape\n",
        "    centroids = np.zeros((k, n))  #3*4\n",
        "    '''Return Updated Values of all K centroids''' \n",
        "    i = 0\n",
        "    for i in range(k):\n",
        "      indices = np.where(cluster_num == i) #where indices are 0, 1 and 2 in the idx array\n",
        "      centroids[i,:] = (np.sum(X.values[indices,:], axis=1) / len(indices[0])).ravel()     #calculating new centroids by dividing the sum of all value by the total values of the cluster\n",
        "\n",
        "    return centroids        \n",
        "    "
      ],
      "execution_count": 277,
      "outputs": []
    },
    {
      "cell_type": "code",
      "metadata": {
        "id": "qOfHZ2ABdMVn"
      },
      "source": [
        "def run_k_means(X, initial_centroids, max_iters):\n",
        "    m, n = X.shape\n",
        "    k = initial_centroids.shape[0]\n",
        "    idx = np.zeros(m)\n",
        "    cluster_num = np.zeros(m)\n",
        "    centroids = initial_centroids\n",
        "    \n",
        "    for i in range(max_iters):\n",
        "      # find closest centroid\n",
        "      idx, cluster_num = find_closest_centroids(X, centroids)\n",
        "      #update centroids\n",
        "      centroids = compute_centroids(X, idx, k, cluster_num)\n",
        "    return cluster_num, centroids\n",
        " "
      ],
      "execution_count": 278,
      "outputs": []
    },
    {
      "cell_type": "code",
      "metadata": {
        "id": "SfJx2HB8dMYP"
      },
      "source": [
        "data_set = pd.read_csv(\"/content/drive/My Drive/AI/dataset_Facebook.csv\", sep=';')  #\n",
        "data_frame1 = pd.DataFrame(data_set)\n",
        "data_frame1.drop(data_frame.columns[[1,6,16,17]], axis = 1, inplace = True)     #dropping class and float type columns\n",
        "data_frame1.reset_index(drop=True, inplace=False)     \n",
        "data_frame1.columns = ['0','1','2','3','4','5','6','7','8','9','10','11','12','13','14'] #renaming the columns\n",
        "X=data_frame1\n",
        "X = X.sample(frac=1)    #shuffling data\n",
        "#making clusters\n",
        "cluster1 = X[0:200]     \n",
        "cluster2 = X[200:350]\n",
        "cluster3 = X[350:500]"
      ],
      "execution_count": 279,
      "outputs": []
    },
    {
      "cell_type": "code",
      "metadata": {
        "id": "JRYDYG-HdMaz"
      },
      "source": [
        "initial_centroids = np.array([cluster1.sample(n = 1), cluster2.sample(n = 1), cluster3.sample(n = 1)])\n",
        "# Select k=3 , pick 3 random centroids from data\n",
        "cluster_num, centroids = run_k_means(X, initial_centroids, 1000)# use 1000 iterations to perform clustering"
      ],
      "execution_count": 280,
      "outputs": []
    },
    {
      "cell_type": "code",
      "metadata": {
        "id": "x-ItMQMLdMeK"
      },
      "source": [
        "k_Meancluster1 = X.values[np.where(cluster_num == 0)[0],:]\n",
        "k_Meancluster2 = X.values[np.where(cluster_num == 1)[0],:]\n",
        "k_Meancluster3 = X.values[np.where(cluster_num == 2)[0],:]"
      ],
      "execution_count": 281,
      "outputs": []
    },
    {
      "cell_type": "code",
      "metadata": {
        "colab": {
          "base_uri": "https://localhost:8080/",
          "height": 500
        },
        "id": "yoa7XiBkdVlD",
        "outputId": "36d7e306-3ff0-454c-e29b-fa1e9bc8beb9"
      },
      "source": [
        "fig, ax = plt.subplots(figsize=(12,8))\n",
        "ax.scatter(cluster1.values[:,9], cluster1.values[:,11], s=30, color='r', label='Cluster 1')\n",
        "ax.scatter(cluster2.values[:,9], cluster2.values[:,11], s=30, color='g', label='Cluster 2')\n",
        "ax.scatter(cluster3.values[:,9], cluster3.values[:,11], s=30, color='b', label='Cluster 3')\n",
        "ax.legend()\n"
      ],
      "execution_count": 282,
      "outputs": [
        {
          "output_type": "execute_result",
          "data": {
            "text/plain": [
              "<matplotlib.legend.Legend at 0x7f11261f7b10>"
            ]
          },
          "metadata": {
            "tags": []
          },
          "execution_count": 282
        },
        {
          "output_type": "display_data",
          "data": {
            "image/png": "[encoded data removed]",
            "text/plain": [
              "<Figure size 864x576 with 1 Axes>"
            ]
          },
          "metadata": {
            "tags": [],
            "needs_background": "light"
          }
        }
      ]
    },
    {
      "cell_type": "code",
      "metadata": {
        "colab": {
          "base_uri": "https://localhost:8080/",
          "height": 500
        },
        "id": "0C02aSzddVnb",
        "outputId": "41108a53-586f-4180-98af-14e498209aee"
      },
      "source": [
        "fig, ax = plt.subplots(figsize=(12,8))\n",
        "ax.scatter(k_Meancluster1[:,9], k_Meancluster1[:,11], s=30, color='r', label='Cluster 1')\n",
        "ax.scatter(k_Meancluster2[:,9], k_Meancluster2[:,11], s=30, color='g', label='Cluster 2')\n",
        "ax.scatter(k_Meancluster3[:,9], k_Meancluster3[:,11], s=30, color='b', label='Cluster 3')\n",
        "ax.legend()"
      ],
      "execution_count": 283,
      "outputs": [
        {
          "output_type": "execute_result",
          "data": {
            "text/plain": [
              "<matplotlib.legend.Legend at 0x7f1126182710>"
            ]
          },
          "metadata": {
            "tags": []
          },
          "execution_count": 283
        },
        {
          "output_type": "display_data",
          "data": {
            "image/png": "[encoded data removed]",
            "text/plain": [
              "<Figure size 864x576 with 1 Axes>"
            ]
          },
          "metadata": {
            "tags": [],
            "needs_background": "light"
          }
        }
      ]
    }
  ]
}